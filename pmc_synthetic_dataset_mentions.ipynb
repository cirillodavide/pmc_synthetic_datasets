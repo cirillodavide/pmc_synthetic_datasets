{
 "cells": [
  {
   "cell_type": "code",
   "execution_count": 1,
   "metadata": {},
   "outputs": [],
   "source": [
    "from bs4 import BeautifulSoup\n",
    "import re\n",
    "from nltk import tokenize\n",
    "import pandas as pd\n",
    "from tqdm import tqdm"
   ]
  },
  {
   "cell_type": "code",
   "execution_count": 2,
   "metadata": {},
   "outputs": [],
   "source": [
    "# download pmc xml using the following query:\n",
    "# https://www.ncbi.nlm.nih.gov/pmc/?term=synthetic+dataset%5BBody+-+All+Words%5D\n",
    "# and load it via bs4 (it takes a while)\n",
    "\n",
    "file = 'pmc_result.xml'\n",
    "infile = open(file, 'r', encoding='utf-8')\n",
    "contents = infile.read()\n",
    "soup = BeautifulSoup(contents, 'lxml-xml')\n",
    "articles = soup.select('article')"
   ]
  },
  {
   "cell_type": "code",
   "execution_count": null,
   "metadata": {},
   "outputs": [
    {
     "name": "stderr",
     "output_type": "stream",
     "text": [
      " 73%|███████▎  | 1434/1964 [02:07<01:21,  6.49it/s]"
     ]
    }
   ],
   "source": [
    "# parse the xml keeping the doi and the sentences that contain both a url and the word 'sythetic'\n",
    "\n",
    "lst = []\n",
    "for article in tqdm(articles):\n",
    "    for i in article.select('article-meta'):\n",
    "        input_tag = i.find(attrs={\"pub-id-type\" : \"doi\"})\n",
    "        try:\n",
    "            doi = input_tag.text\n",
    "        except:\n",
    "            doi = 'NA'\n",
    "    for body in article.select('body'):\n",
    "        for paragraph in body.select('p'):\n",
    "            for sentence in tokenize.sent_tokenize(paragraph.text):\n",
    "                ur = re.findall('http[s]?://(?:[a-zA-Z]|[0-9]|[$-_@.&+]|[!*\\(\\), ]|(?:%[0-9a-fA-F][0-9a-fA-F]))+', sentence)\n",
    "                if ur:\n",
    "                    for match in re.finditer(r\"synthetic\", sentence, re.IGNORECASE):\n",
    "                        lst.append([doi,str(sentence)])\n",
    "\n",
    "# save dataframe to file\n",
    "df = pd.DataFrame.from_records(lst).drop_duplicates()\n",
    "df.columns = ['doi','sentence']\n",
    "df.to_csv('pmc_synth_datasets.csv',index=None)"
   ]
  }
 ],
 "metadata": {
  "kernelspec": {
   "display_name": "Python 3",
   "language": "python",
   "name": "python3"
  },
  "language_info": {
   "codemirror_mode": {
    "name": "ipython",
    "version": 3
   },
   "file_extension": ".py",
   "mimetype": "text/x-python",
   "name": "python",
   "nbconvert_exporter": "python",
   "pygments_lexer": "ipython3",
   "version": "3.6.9"
  }
 },
 "nbformat": 4,
 "nbformat_minor": 4
}
